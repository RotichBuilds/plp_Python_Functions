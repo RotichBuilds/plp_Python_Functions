{
 "cells": [
  {
   "cell_type": "markdown",
   "metadata": {},
   "source": [
    "Create a function named calculate_discount(price, discount_percent) that calculates the final price after applying a discount. The function should take the original price (price) and the discount percentage (discount_percent) as parameters. If the discount is 20% or higher, apply the discount; otherwise, return the original price. Using the calculate_discount function, prompt the user to enter the original price of an item and the discount percentage. Print the final price after applying the discount, or if no discount was applied, print the original price."
   ]
  },
  {
   "cell_type": "code",
   "execution_count": 2,
   "metadata": {},
   "outputs": [],
   "source": [
    "def calculate_discount (price, discount_percent):\n",
    "    if discount_percent >= 20:\n",
    "         final_price = price * (1- discount_percent/100)\n",
    "        \n",
    "    \n",
    "    else:\n",
    "        final_price = price\n",
    "        \n",
    "    return final_price\n",
    "\n",
    "price_input = input(\"Enter the original price of the item: \")\n",
    "discount_input = input(\"Enter the discount percentage: \")\n",
    "\n",
    "original_price = float(price_input)\n",
    "discount_percent = float(discount_input)\n",
    "\n",
    "final_price = calculate_discount(original_price, discount_percent)\n",
    "\n",
    "if final_price != original_price:\n",
    "  print(f\"The final price after applying the discount is {final_price}.\")\n",
    "else:\n",
    "  print(\"No discount was applied.\")\n",
    "    \n",
    "\n",
    "\n"
   ]
  }
 ],
 "metadata": {
  "kernelspec": {
   "display_name": "Python 3",
   "language": "python",
   "name": "python3"
  },
  "language_info": {
   "codemirror_mode": {
    "name": "ipython",
    "version": 3
   },
   "file_extension": ".py",
   "mimetype": "text/x-python",
   "name": "python",
   "nbconvert_exporter": "python",
   "pygments_lexer": "ipython3",
   "version": "3.11.7"
  }
 },
 "nbformat": 4,
 "nbformat_minor": 2
}
